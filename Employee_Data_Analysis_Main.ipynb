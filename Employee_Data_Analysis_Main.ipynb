{
 "cells": [
  {
   "cell_type": "markdown",
   "metadata": {},
   "source": [
    "# Employee Database Analysis"
   ]
  },
  {
   "cell_type": "markdown",
   "metadata": {},
   "source": [
    "## Import Data from Postgres SQL Database"
   ]
  },
  {
   "cell_type": "code",
   "execution_count": 63,
   "metadata": {},
   "outputs": [],
   "source": [
    "#Import Modules\n",
    "from sqlalchemy import create_engine, inspect, MetaData, Table\n",
    "import pandas as pd\n",
    "import numpy as np\n",
    "import matplotlib.pyplot as plt"
   ]
  },
  {
   "cell_type": "code",
   "execution_count": 64,
   "metadata": {},
   "outputs": [],
   "source": [
    "#Import Database Key\n",
    "from db_keys import db_key\n",
    "\n",
    "#Import Employee Data Tables from SQL Database\n",
    "engine = create_engine('postgresql://' + db_key + '@localhost:5432/employee_data_db')\n",
    "connection = engine.connect()"
   ]
  },
  {
   "cell_type": "code",
   "execution_count": 65,
   "metadata": {},
   "outputs": [
    {
     "data": {
      "text/plain": [
       "['employees', 'salaries', 'titles', 'departments', 'dept_manager', 'dept_emp']"
      ]
     },
     "execution_count": 65,
     "metadata": {},
     "output_type": "execute_result"
    }
   ],
   "source": [
    "inspector = inspect(engine)\n",
    "\n",
    "table_names = inspector.get_table_names()\n",
    "\n",
    "table_names"
   ]
  },
  {
   "cell_type": "code",
   "execution_count": 73,
   "metadata": {},
   "outputs": [
    {
     "data": {
      "text/plain": [
       "immutabledict({'employees': Table('employees', MetaData(bind=None), Column('emp_no', INTEGER(), table=<employees>, primary_key=True, nullable=False), Column('birth_date', DATE(), table=<employees>), Column('first_name', VARCHAR(length=30), table=<employees>, nullable=False), Column('last_name', VARCHAR(length=30), table=<employees>, nullable=False), Column('gender', VARCHAR(length=1), table=<employees>, nullable=False), Column('hire_date', DATE(), table=<employees>), schema=None), 'salaries': Table('salaries', MetaData(bind=None), Column('emp_no', INTEGER(), ForeignKey('employees.emp_no'), table=<salaries>, nullable=False), Column('salary', INTEGER(), table=<salaries>, nullable=False), Column('from_date', DATE(), table=<salaries>), Column('to_date', DATE(), table=<salaries>), schema=None), 'titles': Table('titles', MetaData(bind=None), Column('emp_no', INTEGER(), ForeignKey('employees.emp_no'), table=<titles>, nullable=False), Column('title', VARCHAR(length=30), table=<titles>, nullable=False), Column('from_date', DATE(), table=<titles>), Column('to_date', DATE(), table=<titles>), schema=None), 'departments': Table('departments', MetaData(bind=None), Column('dept_no', VARCHAR(length=5), table=<departments>, primary_key=True, nullable=False), Column('dept_name', VARCHAR(length=30), table=<departments>, nullable=False), schema=None), 'dept_manager': Table('dept_manager', MetaData(bind=None), Column('dept_no', VARCHAR(length=5), ForeignKey('departments.dept_no'), table=<dept_manager>, nullable=False), Column('emp_no', INTEGER(), ForeignKey('employees.emp_no'), table=<dept_manager>, nullable=False), Column('from_date', DATE(), table=<dept_manager>), Column('to_date', DATE(), table=<dept_manager>), schema=None), 'dept_emp': Table('dept_emp', MetaData(bind=None), Column('emp_no', INTEGER(), ForeignKey('employees.emp_no'), table=<dept_emp>, nullable=False), Column('dept_no', VARCHAR(length=5), ForeignKey('departments.dept_no'), table=<dept_emp>, nullable=False), Column('from_date', DATE(), table=<dept_emp>), Column('to_date', DATE(), table=<dept_emp>), schema=None)})"
      ]
     },
     "execution_count": 73,
     "metadata": {},
     "output_type": "execute_result"
    }
   ],
   "source": [
    "#Create MetaData Instance\n",
    "metadata = MetaData()\n",
    "\n",
    "#Import DB Schema To MetaData Instance\n",
    "metadata.reflect(bind=engine)\n",
    "\n",
    "metadata.tables"
   ]
  },
  {
   "cell_type": "code",
   "execution_count": 74,
   "metadata": {},
   "outputs": [
    {
     "name": "stdout",
     "output_type": "stream",
     "text": [
      "employees\n",
      "salaries\n",
      "titles\n",
      "departments\n",
      "dept_manager\n",
      "dept_emp\n"
     ]
    }
   ],
   "source": [
    "for table in table_names:\n",
    "    print(table)"
   ]
  },
  {
   "cell_type": "code",
   "execution_count": null,
   "metadata": {},
   "outputs": [],
   "source": []
  }
 ],
 "metadata": {
  "kernelspec": {
   "display_name": "Python 3",
   "language": "python",
   "name": "python3"
  },
  "language_info": {
   "codemirror_mode": {
    "name": "ipython",
    "version": 3
   },
   "file_extension": ".py",
   "mimetype": "text/x-python",
   "name": "python",
   "nbconvert_exporter": "python",
   "pygments_lexer": "ipython3",
   "version": "3.7.3"
  }
 },
 "nbformat": 4,
 "nbformat_minor": 2
}
